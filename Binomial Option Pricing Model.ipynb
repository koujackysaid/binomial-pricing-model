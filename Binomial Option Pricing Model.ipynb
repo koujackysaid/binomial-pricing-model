{
 "cells": [
  {
   "cell_type": "markdown",
   "id": "4c218e81",
   "metadata": {},
   "source": [
    "## Theories\n",
    "- Law of one price: if P($port_a$ = $port_b$ at time T)=1, then, $port_a$ = $port_b$ at time time 0\n",
    "\n",
    "\n",
    "- Take European call option as an example\n",
    "- $port_b$ would be holding the call option, $port_a$ would be holding stock and cash in bank receiving risk-free interests\n",
    "- Assume exercising call option at time T, need K. So capital required at time 0 is $K*e^{-rt}$\n",
    "- assume port_a have stock = $S_0$, and capital = $b_0$= 1 at the beginning, port_b has derivatives $C_0$ at the beginning\n",
    "- assume unit of stock and capital in port_a is $\\alpha$, and $\\beta$ respectively\n",
    "- assume u is the up factor, d is the down factor, q is the risk-neutral probability\n",
    "- Define port_a at time T if stock price goes up: $S_0(u)$, $b_0(e^{rt})$, port_b will be $C_u$\n",
    "- Define port_a at time T if stock price goes down: $S_0(d)$, $b_0(e^{rt})$, port_b will be $C_d$\n",
    "\n",
    "\n",
    "- Derive formula: $C_0$ = $\\alpha$($b_0$) + $\\beta$($S_0$)\n",
    "    - pay attention q = ($S_0(e^{rt})-S_d$)/($S_u - S_d$), which is a risk neutral probability, not a physical probability\n",
    "    - can simplify it as ($S_0(e^{rt})-S_0(d)$)/($S_0(u) - S_0(d)$)\n",
    "    - net off $S_0$\n",
    "    - $q = (e^{rt}-d)/(u-d)$\n",
    "    - explanation on why this is the risk neutral probability we are looking for, https://www.youtube.com/watch?v=G8eFo4yIdrY\n",
    "- Therefore, can derive formula: $C_0$ = $e^{-rt}$($C_u$(q) + $C_d$(1-q))\n",
    "\n",
    "\n",
    "- extend single period condition to multiple periods condition\n",
    "- reference of sample questions: https://analystprep.com/study-notes/frm/part-1/valuation-and-risk-management/binomial-trees/"
   ]
  },
  {
   "cell_type": "markdown",
   "id": "1296d0d4",
   "metadata": {},
   "source": [
    "### Implementation of the binomial pricing model\n",
    "- treat binomial tree as a network with nodes (i,j) with i representing the time steps and j representing the number of ordered price outcome, lowest, or bottom of tree, to highest.\n",
    "- use $S_{i,j}$ to represent the position of portfolio value in different conditions\n",
    "- define $S_{i,j}$ as $S_0$($u^j$)($d^{(i-j)}$)\n",
    "- $C_{i,j}$  represents contract price at each node (i,j). Where $C_{N,j}$ represents final payoff function that we can define.\n",
    "- for a European Call, $C_{N,j}$=max($S_{N,j}$−K,0)\n",
    "\n",
    "\n",
    "- take time at $T_3$ as an example:\n",
    "    - if Time step = N, then we will have N+1 columes of values, the i = j =3, (0,1,2,3), got 4 columns of values\n",
    "    - so if we want to move the pointer on $S_{3,0}$ to $S_{3,1}$, we can time it with $(u/d)$. Same logic, if we want to move the pointer from the latter one to the former one, time the latter one with $(d/u)$. It is a zig-zag move in a binomial tree structure\n",
    "    - $S_{3,0}$ will divide by d first, back to $S_{2,0}$\n",
    "    - then $S_{2,0}$ will time with u to go to $S_{3,1}$\n",
    "\n",
    "\n",
    "- Observed the binomial tree model's structure, we can have two useful findings:\n",
    "    - once we have the values at $T_N$, we can calculate the values at $T_{N-1}$ by applying the pricing formula we derived\n",
    "    - we can use numpy array to store the values at each column to conduct array operation rather than generating single value by for-loop function (it is conducting a single period pricing many times, however we can do it all at once). Array multiplication is much faster when complexity or N is large\n",
    "\n",
    "\n",
    "- then, using a generic timing wrapper function to judge the time performance of using numpy arrays over for loops to iterate over j nodes in each time step i."
   ]
  },
  {
   "cell_type": "code",
   "execution_count": 1,
   "id": "a48c0e07",
   "metadata": {},
   "outputs": [],
   "source": [
    "import numpy as np\n",
    "from functools import wraps\n",
    "from time import time"
   ]
  },
  {
   "cell_type": "code",
   "execution_count": 2,
   "id": "310fd1ec",
   "metadata": {},
   "outputs": [],
   "source": [
    "def timing(f):\n",
    "    @wraps(f)\n",
    "    def wrap(*args, **kw):\n",
    "        ts = time()\n",
    "        result = f(*args, **kw)\n",
    "        te = time()\n",
    "        print('func:%r args:[%r, %r] took: %2.4f sec' % \\\n",
    "          (f.__name__, args, kw, te-ts))\n",
    "        return result\n",
    "    return wrap"
   ]
  },
  {
   "cell_type": "markdown",
   "id": "fb227a43",
   "metadata": {},
   "source": [
    "#### 1.Initialise parameters"
   ]
  },
  {
   "cell_type": "code",
   "execution_count": 3,
   "id": "725565e7",
   "metadata": {},
   "outputs": [],
   "source": [
    "S0 = 100      # initial stock price\n",
    "K = 100       # strike price\n",
    "T = 1         # time to maturity in years\n",
    "r = 0.06      # annual risk-free rate\n",
    "N = 3         # number of time steps\n",
    "u = 1.1       # up-factor in binomial models\n",
    "d = 1/u       # ensure recombining tree\n",
    "opttype = 'C' # Option Type 'C' or 'P'"
   ]
  },
  {
   "cell_type": "markdown",
   "id": "3de49b73",
   "metadata": {},
   "source": [
    "#### 2. Binomial Tree Slow\n",
    "- For the binomial tree slow, use for loops to iterate through nodes j at each time step i."
   ]
  },
  {
   "cell_type": "code",
   "execution_count": 4,
   "id": "48b0ed68",
   "metadata": {},
   "outputs": [
    {
     "name": "stdout",
     "output_type": "stream",
     "text": [
      "func:'binomial_tree_slow' args:[(100, 1, 100, 0.06, 3, 1.1, 0.9090909090909091), {'opttype': 'C'}] took: 0.0001 sec\n"
     ]
    },
    {
     "data": {
      "text/plain": [
       "10.145735799928817"
      ]
     },
     "execution_count": 4,
     "metadata": {},
     "output_type": "execute_result"
    }
   ],
   "source": [
    "@timing\n",
    "def binomial_tree_slow(K,T,S0,r,N,u,d,opttype='C'):\n",
    "    #precompute constants\n",
    "    dt = T/N\n",
    "    q = (np.exp(r*dt) - d) / (u-d)\n",
    "    disc = np.exp(-r*dt)\n",
    "    \n",
    "    # initialise asset prices at maturity - Time step N\n",
    "    S = np.zeros(N+1) # set up an array of 0 first, then update the values\n",
    "    S[0] = S0*d**N\n",
    "    for j in range(1,N+1):\n",
    "        S[j] = S[j-1]*u/d #zig-zag move\n",
    "    \n",
    "    # initialise option values at maturity\n",
    "    C = np.zeros(N+1)\n",
    "    for j in range(0,N+1):\n",
    "        C[j] = max(0, S[j]-K)\n",
    "        \n",
    "    # step backwards through tree\n",
    "    for i in np.arange(N,0,-1):\n",
    "        for j in range(0,i): # why to i? since if we have 3 time steps, we will have 4 cols of values, we will start with finding the value of C along the N-1 cols\n",
    "            C[j] = disc * ( q*C[j+1] + (1-q)*C[j] )\n",
    "    \n",
    "    return C[0]\n",
    "binomial_tree_slow(K,T,S0,r,N,u,d,opttype='C')"
   ]
  },
  {
   "cell_type": "code",
   "execution_count": 5,
   "id": "6664cc16",
   "metadata": {},
   "outputs": [
    {
     "data": {
      "text/plain": [
       "array([0., 0., 0., 0.])"
      ]
     },
     "execution_count": 5,
     "metadata": {},
     "output_type": "execute_result"
    }
   ],
   "source": [
    "S = np.zeros(N+1)\n",
    "S"
   ]
  },
  {
   "cell_type": "code",
   "execution_count": 6,
   "id": "0931208e",
   "metadata": {},
   "outputs": [
    {
     "data": {
      "text/plain": [
       "[3, 2, 1]"
      ]
     },
     "execution_count": 6,
     "metadata": {},
     "output_type": "execute_result"
    }
   ],
   "source": [
    "list(np.arange(N,0,-1))"
   ]
  },
  {
   "cell_type": "code",
   "execution_count": 7,
   "id": "d8daa1c1",
   "metadata": {},
   "outputs": [
    {
     "data": {
      "text/plain": [
       "[0, 1, 2]"
      ]
     },
     "execution_count": 7,
     "metadata": {},
     "output_type": "execute_result"
    }
   ],
   "source": [
    "list(range(0,3))"
   ]
  },
  {
   "cell_type": "markdown",
   "id": "0d4fb7b2",
   "metadata": {},
   "source": [
    "#### 2. Binomial Tree Fast\n",
    "- vectorise out code using numpy arrays instead of for loops through j nodes"
   ]
  },
  {
   "cell_type": "code",
   "execution_count": 8,
   "id": "632668d3",
   "metadata": {},
   "outputs": [
    {
     "name": "stdout",
     "output_type": "stream",
     "text": [
      "func:'binomial_tree_fast' args:[(100, 1, 100, 0.06, 3, 1.1, 0.9090909090909091), {'opttype': 'C'}] took: 0.0001 sec\n"
     ]
    },
    {
     "data": {
      "text/plain": [
       "10.145735799928826"
      ]
     },
     "execution_count": 8,
     "metadata": {},
     "output_type": "execute_result"
    }
   ],
   "source": [
    "@timing\n",
    "def binomial_tree_fast(K,T,S0,r,N,u,d,opttype='C'):\n",
    "    #precompute constants\n",
    "    dt = T/N\n",
    "    q = (np.exp(r*dt) - d) / (u-d)\n",
    "    disc = np.exp(-r*dt)\n",
    "    \n",
    "    # initialise asset prices at maturity - Time step N\n",
    "    C = S0 * d ** (np.arange(N,-1,-1)) * u ** (np.arange(0,N+1,1)) # from bottom to top d^(3,2,1,0),u^(0,1,2,3)\n",
    "    \n",
    "    # initialise option values at maturity\n",
    "    C = np.maximum( C - K , np.zeros(N+1) )\n",
    "        \n",
    "    # step backwards through tree (getting the array of values of the previous T step)\n",
    "    for i in np.arange(N,0,-1):\n",
    "        C = disc * ( q * C[1:i+1] + (1-q) * C[0:i] ) # no j to help us to define the locaiton, use iloc to replace it\n",
    "        # the point is looking at the graph, we can see C[0,1,2] will time with (1-q) once at T3, when we cal the values at T2\n",
    "        # same, we can see C[1,2,3] will time with (q) once at T3\n",
    "        # for np format, right close, so [0:4] is [0,1,2,3]\n",
    "    \n",
    "    return C[0]\n",
    "binomial_tree_fast(K,T,S0,r,N,u,d,opttype='C')"
   ]
  },
  {
   "cell_type": "code",
   "execution_count": 9,
   "id": "767f25de",
   "metadata": {},
   "outputs": [
    {
     "data": {
      "text/plain": [
       "array([ 75.13148009,  90.90909091, 110.        , 133.1       ])"
      ]
     },
     "execution_count": 9,
     "metadata": {},
     "output_type": "execute_result"
    }
   ],
   "source": [
    "dt = T/N\n",
    "q = (np.exp(r*dt) - d) / (u-d)\n",
    "disc = np.exp(-r*dt)\n",
    "C = S0 * d ** (np.arange(N,-1,-1)) * u ** (np.arange(0,N+1,1))\n",
    "C"
   ]
  },
  {
   "cell_type": "code",
   "execution_count": 10,
   "id": "e26b3e84",
   "metadata": {},
   "outputs": [
    {
     "data": {
      "text/plain": [
       "array([ 0. ,  0. , 10. , 33.1])"
      ]
     },
     "execution_count": 10,
     "metadata": {},
     "output_type": "execute_result"
    }
   ],
   "source": [
    "C = np.maximum( C - K , np.zeros(N+1) )\n",
    "C"
   ]
  },
  {
   "cell_type": "markdown",
   "id": "c61a275f",
   "metadata": {},
   "source": [
    "### Binomial Tree Slow vs Fast\n",
    "- compare runtimes for slow vs fast. Ignore option price changes as this is impacted with changing the time steps and keeping the u and d factors the same."
   ]
  },
  {
   "cell_type": "code",
   "execution_count": 11,
   "id": "15d8a97a",
   "metadata": {},
   "outputs": [
    {
     "name": "stdout",
     "output_type": "stream",
     "text": [
      "func:'binomial_tree_slow' args:[(100, 1, 100, 0.06, 3, 1.1, 0.9090909090909091), {'opttype': 'C'}] took: 0.0000 sec\n",
      "func:'binomial_tree_fast' args:[(100, 1, 100, 0.06, 3, 1.1, 0.9090909090909091), {'opttype': 'C'}] took: 0.0001 sec\n",
      "func:'binomial_tree_slow' args:[(100, 1, 100, 0.06, 50, 1.1, 0.9090909090909091), {'opttype': 'C'}] took: 0.0010 sec\n",
      "func:'binomial_tree_fast' args:[(100, 1, 100, 0.06, 50, 1.1, 0.9090909090909091), {'opttype': 'C'}] took: 0.0005 sec\n",
      "func:'binomial_tree_slow' args:[(100, 1, 100, 0.06, 100, 1.1, 0.9090909090909091), {'opttype': 'C'}] took: 0.0033 sec\n",
      "func:'binomial_tree_fast' args:[(100, 1, 100, 0.06, 100, 1.1, 0.9090909090909091), {'opttype': 'C'}] took: 0.0008 sec\n",
      "func:'binomial_tree_slow' args:[(100, 1, 100, 0.06, 1000, 1.1, 0.9090909090909091), {'opttype': 'C'}] took: 0.2781 sec\n",
      "func:'binomial_tree_fast' args:[(100, 1, 100, 0.06, 1000, 1.1, 0.9090909090909091), {'opttype': 'C'}] took: 0.0057 sec\n",
      "func:'binomial_tree_slow' args:[(100, 1, 100, 0.06, 5000, 1.1, 0.9090909090909091), {'opttype': 'C'}] took: 6.4120 sec\n",
      "func:'binomial_tree_fast' args:[(100, 1, 100, 0.06, 5000, 1.1, 0.9090909090909091), {'opttype': 'C'}] took: 0.0431 sec\n"
     ]
    }
   ],
   "source": [
    "for N in [3,50, 100, 1000, 5000]:\n",
    "    binomial_tree_slow(K,T,S0,r,N,u,d,opttype='C')\n",
    "    binomial_tree_fast(K,T,S0,r,N,u,d,opttype='C')"
   ]
  },
  {
   "cell_type": "markdown",
   "id": "74b7b967",
   "metadata": {},
   "source": [
    "### Choosing Parameters\n",
    "- at the above case, I simply denote u as 1.1, and d as 1/u, and use u and d to calculate the risk-neutral probability q, while there are various methods to calculate the binomial tree parameters up-factor u, down-factor d and risk-neutral probability q. \n",
    "\n",
    "- All methods attempt to approximate the risk-neutral asset dynamics as accurately as possible; this is done by matching the mean and variance of the binomial asset pricing model to the dynamics of the underlying - Geometric Brownian Motion (GBM). \n",
    "- The Cox, Ross and Rubinstein (CRR) method assumes that the up and down factors have the same jump size while the Jarrow and Rudd (JR) method assumes the same risk-neutral probabilities. \n",
    "\n",
    "- If the underlying binomial tree is represented in terms of the natural logarithm of asset prices (where x=ln(S)) then the risk-neutral dynamics of the black-scholes model can be used for accurate and robust approximation. \n",
    "    - Using the GBM, the log-normal distribution has constant mean and variance and hence the mean and variance is easy to match with that of the binomial tree model. The Equal Probability method (EQP) proposed exactly that, using equal probabilities with the underlying tree represented by the natural logarithm of asset prices. The Trigeorgis method (TRG) is again represented by equal jump sizes, however implemented on a binomial tree represented by the natural logarithm of asset prices.\n",
    "\n",
    "- So I will apply them in the option pricing and see will there be any difference in the final result\n",
    "\n",
    "\n",
    "- For these two methods, they can perform a good approxiamtion of the option price within a short time period\n",
    "    - Cox, Ross and Rubinstein (CRR), https://www.uio.no/studier/emner/matnat/math/STK-MAT3700/h18/lectures/binomial-and-black-scholes-models-.pdf\n",
    "    - Jarrow and Rudd (JR), https://www.macroption.com/jarrow-rudd-formulas/\n",
    "- For these two methods, one is with equal risk-neutral probability, and TRG is with equal jump size, both of them are using logarithmic asset pricing tree\n",
    "    - Equal probabilities (EQP)\n",
    "    - Trigeorgis (TRG), https://simulations.lpma.math.upmc.fr/binomial_trees/trigeorgis\n",
    "- why take natural log of stock price, explaination with examples: https://lucaslouca.com/Why-Use-Logarithmic-Returns-In-Time-Series-Modelling/"
   ]
  },
  {
   "cell_type": "code",
   "execution_count": 12,
   "id": "54640b34",
   "metadata": {},
   "outputs": [],
   "source": [
    "# update the initital setting of the European Call option first\n",
    "S0 = 100      # initial stock price\n",
    "K = 110       # strike price\n",
    "T = 0.5       # time to maturity in years\n",
    "r = 0.06      # annual risk-free rate\n",
    "N = 100       # number of time steps\n",
    "sigma = 0.3   # Annualised stock price volatility\n",
    "opttype = 'C' # Option Type 'C' or 'P'"
   ]
  },
  {
   "cell_type": "markdown",
   "id": "e88e2de1",
   "metadata": {},
   "source": [
    "#### Cox, Ross and Rubinstein (CRR)"
   ]
  },
  {
   "cell_type": "code",
   "execution_count": 13,
   "id": "391a15d3",
   "metadata": {},
   "outputs": [
    {
     "data": {
      "text/plain": [
       "5.77342630682585"
      ]
     },
     "execution_count": 13,
     "metadata": {},
     "output_type": "execute_result"
    }
   ],
   "source": [
    "def CRR_method(K,T,S0,r,N,sigma,opttype='C'):\n",
    "    #precomute constants\n",
    "    dt = T/N\n",
    "    u = np.exp(sigma*np.sqrt(dt))\n",
    "    d = 1/u\n",
    "    q = (np.exp(r*dt) - d) / (u-d)\n",
    "    disc = np.exp(-r*dt)\n",
    "    \n",
    "    # initialise asset prices at maturity - Time step N\n",
    "    S = np.zeros(N+1)\n",
    "    S[0] = S0*d**N\n",
    "    for j in range(1,N+1):\n",
    "        S[j] = S[j-1]*u/d\n",
    "    \n",
    "    # initialise option values at maturity\n",
    "    C = np.zeros(N+1)\n",
    "    for j in range(0,N+1):\n",
    "        if opttype == 'C':\n",
    "            C[j] = max(0, S[j]-K)\n",
    "        else:\n",
    "            C[j] = max(0, K - S[j])\n",
    "        \n",
    "    # step backwards through tree\n",
    "    for i in np.arange(N,0,-1):\n",
    "        for j in range(0,i):\n",
    "            C[j] = disc * ( q*C[j+1] + (1-q)*C[j] )\n",
    "    \n",
    "    return C[0]\n",
    "CRR_method(K,T,S0,r,N,sigma,opttype='C')"
   ]
  },
  {
   "cell_type": "markdown",
   "id": "b1588b95",
   "metadata": {},
   "source": [
    "#### Cox, Ross and Rubinstein (CRR)"
   ]
  },
  {
   "cell_type": "code",
   "execution_count": 14,
   "id": "b25c7648",
   "metadata": {},
   "outputs": [
    {
     "data": {
      "text/plain": [
       "5.754089414567556"
      ]
     },
     "execution_count": 14,
     "metadata": {},
     "output_type": "execute_result"
    }
   ],
   "source": [
    "def JR_method(K,T,S0,r,N,sigma,opttype='C'):\n",
    "    #precomute constants\n",
    "    dt = T/N\n",
    "    nu = r - 0.5*sigma**2\n",
    "    u = np.exp(nu*dt + sigma*np.sqrt(dt))\n",
    "    d = np.exp(nu*dt - sigma*np.sqrt(dt))\n",
    "    q = 0.5\n",
    "    disc = np.exp(-r*dt)\n",
    "    \n",
    "    # initialise asset prices at maturity - Time step N\n",
    "    S = np.zeros(N+1)\n",
    "    S[0] = S0*d**N\n",
    "    for j in range(1,N+1):\n",
    "        S[j] = S[j-1]*u/d\n",
    "    \n",
    "    # initialise option values at maturity\n",
    "    C = np.zeros(N+1)\n",
    "    for j in range(0,N+1):\n",
    "        if opttype == 'C':\n",
    "            C[j] = max(0, S[j]-K)\n",
    "        else:\n",
    "            C[j] = max(0, K - S[j])\n",
    "        \n",
    "    # step backwards through tree\n",
    "    for i in np.arange(N,0,-1):\n",
    "        for j in range(0,i):\n",
    "            C[j] = disc * ( q*C[j+1] + (1-q)*C[j] )\n",
    "    \n",
    "    return C[0]\n",
    "JR_method(K,T,S0,r,N,sigma,opttype='C')"
   ]
  },
  {
   "cell_type": "markdown",
   "id": "93968f44",
   "metadata": {},
   "source": [
    "#### Equal Probabilities (EQP) Method"
   ]
  },
  {
   "cell_type": "code",
   "execution_count": 15,
   "id": "0f3a7e96",
   "metadata": {},
   "outputs": [
    {
     "data": {
      "text/plain": [
       "5.7365844788666545"
      ]
     },
     "execution_count": 15,
     "metadata": {},
     "output_type": "execute_result"
    }
   ],
   "source": [
    "def EQP_method(K,T,S0,r,N,sigma,opttype='C'):\n",
    "    #precomute constants\n",
    "    dt = T/N\n",
    "    nu = r - 0.5*sigma**2\n",
    "    dxu = 0.5*nu*dt + 0.5*np.sqrt(4*sigma**2 * dt - 3*nu**2 * dt**2)\n",
    "    dxd = 1.5*nu*dt - 0.5*np.sqrt(4*sigma**2 * dt - 3*nu**2 * dt**2)\n",
    "    pu = 0.5\n",
    "    pd = 1-pu\n",
    "    disc = np.exp(-r*dt)\n",
    "    \n",
    "    # initialise asset prices at maturity - Time step N\n",
    "    S = np.zeros(N+1)\n",
    "    S[0] = S0*np.exp(N*dxd) # no more u or d now\n",
    "    for j in range(1,N+1):\n",
    "        S[j] = S[j-1]*np.exp(dxu - dxd) # same zig-zag move, e^-dxd then e^dxu\n",
    "    \n",
    "    # initialise option values at maturity\n",
    "    C = np.zeros(N+1)\n",
    "    for j in range(0,N+1):\n",
    "        if opttype == 'C':\n",
    "            C[j] = max(0, S[j]-K)\n",
    "        else:\n",
    "            C[j] = max(0, K - S[j])\n",
    "        \n",
    "    # step backwards through tree\n",
    "    for i in np.arange(N,0,-1):\n",
    "        for j in range(0,i):\n",
    "            C[j] = disc * ( pu*C[j+1] + pd*C[j] )\n",
    "    \n",
    "    return C[0]\n",
    "EQP_method(K,T,S0,r,N,sigma,opttype='C')"
   ]
  },
  {
   "cell_type": "markdown",
   "id": "222177ee",
   "metadata": {},
   "source": [
    "#### Trigeorgis (TRG) Method"
   ]
  },
  {
   "cell_type": "code",
   "execution_count": 16,
   "id": "dde07e85",
   "metadata": {},
   "outputs": [
    {
     "data": {
      "text/plain": [
       "5.773359020180677"
      ]
     },
     "execution_count": 16,
     "metadata": {},
     "output_type": "execute_result"
    }
   ],
   "source": [
    "def TRG_method(K,T,S0,r,N,sigma,opttype='C'):\n",
    "    #precomute constants\n",
    "    dt = T/N\n",
    "    nu = r - 0.5*sigma**2\n",
    "    dxu = np.sqrt(sigma**2 * dt + nu**2 * dt**2)\n",
    "    dxd = -dxu\n",
    "    pu = 0.5 + 0.5*nu*dt/dxu\n",
    "    pd = 1-pu\n",
    "    disc = np.exp(-r*dt)\n",
    "    \n",
    "    # initialise asset prices at maturity - Time step N\n",
    "    S = np.zeros(N+1)\n",
    "    S[0] = S0*np.exp(N*dxd)\n",
    "    for j in range(1,N+1):\n",
    "        S[j] = S[j-1]*np.exp(dxu - dxd)\n",
    "    \n",
    "    # initialise option values at maturity\n",
    "    C = np.zeros(N+1)\n",
    "    for j in range(0,N+1):\n",
    "        if opttype == 'C':\n",
    "            C[j] = max(0, S[j]-K)\n",
    "        else:\n",
    "            C[j] = max(0, K - S[j])\n",
    "        \n",
    "    # step backwards through tree\n",
    "    for i in np.arange(N,0,-1):\n",
    "        for j in range(0,i):\n",
    "            C[j] = disc * ( pu*C[j+1] + pd*C[j] )\n",
    "    \n",
    "    return C[0]\n",
    "TRG_method(K,T,S0,r,N,sigma,opttype='C')"
   ]
  },
  {
   "cell_type": "markdown",
   "id": "d55173e2",
   "metadata": {},
   "source": [
    "### Comparision of Methods\n",
    "- Also compare with Black-Scholes to observe the varaince of the calculation for the option price\n",
    "- can observe the convergence of difference between the option price generated by different models\n",
    "- also can observed that CRR and TRG always give a higher option price approximation for European Call Option"
   ]
  },
  {
   "cell_type": "code",
   "execution_count": 17,
   "id": "a23ee7f4",
   "metadata": {},
   "outputs": [
    {
     "data": {
      "image/png": "[encoded data removed]",
      "text/plain": [
       "<Figure size 432x288 with 1 Axes>"
      ]
     },
     "metadata": {
      "needs_background": "light"
     },
     "output_type": "display_data"
    }
   ],
   "source": [
    "from py_vollib.black_scholes import black_scholes as bs\n",
    "import matplotlib.pyplot as plt\n",
    "## call option with different steps \n",
    "CRR, JR, EQP, TRG = [],[],[],[]\n",
    "periods = range(10,500,10)\n",
    "for N in periods:\n",
    "    CRR.append(CRR_method(K,T,S0,r,N,sigma,opttype='C'))\n",
    "    JR.append(JR_method(K,T,S0,r,N,sigma,opttype='C'))\n",
    "    EQP.append(EQP_method(K,T,S0,r,N,sigma,opttype='C'))\n",
    "    TRG.append(TRG_method(K,T,S0,r,N,sigma,opttype='C'))\n",
    "    \n",
    "BS = [bs('c', S0, K, T, r, sigma) for i in periods]\n",
    "plt.plot(periods, CRR, label='Cox_Ross_Rubinstein')\n",
    "plt.plot(periods, JR, label='Jarrow_Rudd')\n",
    "plt.plot(periods, EQP, label='EQP')\n",
    "plt.plot(periods, TRG, 'r--',label='Trigeorgis')\n",
    "plt.plot(periods, BS, 'k',label='Black-Scholes')\n",
    "plt.legend(loc='upper right')\n",
    "plt.show()"
   ]
  }
 ],
 "metadata": {
  "kernelspec": {
   "display_name": "Python 3 (ipykernel)",
   "language": "python",
   "name": "python3"
  },
  "language_info": {
   "codemirror_mode": {
    "name": "ipython",
    "version": 3
   },
   "file_extension": ".py",
   "mimetype": "text/x-python",
   "name": "python",
   "nbconvert_exporter": "python",
   "pygments_lexer": "ipython3",
   "version": "3.9.7"
  }
 },
 "nbformat": 4,
 "nbformat_minor": 5
}
