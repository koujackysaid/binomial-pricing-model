{
 "cells": [
  {
   "cell_type": "markdown",
   "id": "4c218e81",
   "metadata": {},
   "source": [
    "## Theories\n",
    "- Law of one price: if P($port_a$ = $port_b$ at time T)=1, then, $port_a$ = $port_b$ at time time 0\n",
    "\n",
    "\n",
    "- Take European call option as an example\n",
    "- $port_b$ would be holding the call option, $port_a$ would be holding stock and cash in bank receiving risk-free interests.\n",
    "- Assume exercising call option at time T, need K. So capital required at time 0 is $K*e^{-rt}$\n",
    "- assume port_a have stock = $S_0$, and capital = $b_0$= 1 at the beginning, port_b has derivatives $C_0$ at the beginning\n",
    "- assume unit of stock and capital in port_a is $\\alpha$, and $\\beta$ respectively\n",
    "- assume u is the up factor, d is the down factor\n",
    "- Define port_a at time T if stock price goes up: $S_0(u)$, $b_0(e^{rt})$, port_b will be $C_u$\n",
    "- Define port_a at time T if stock price goes down: $S_0(d)$, $b_0(e^{rt})$, port_b will be $C_d$\n",
    "\n",
    "\n",
    "- Derive formula: $C_0$ = $\\alpha$($b_0$) + $\\beta$($S_0$)\n",
    "    - pay attention q = ($S_0(e^{rt})-S_d$)/($S_u - S_d$), which is a risk neutral probability, not a physical probability\n",
    "    - can simplify it as ($S_0(e^{rt})-S_0(d)$)/($S_0(u) - S_0(d)$)\n",
    "    - net off $S_0$\n",
    "    - $q = (e^{rt}-d)/(u-d)$\n",
    "- Therefore, can derive formula: $C_0$ = e^{-rt}($C_u$(q) + $C_d$(1-q))\n",
    "\n",
    "\n",
    "- extend single time period condition to multiple time periods condition"
   ]
  },
  {
   "cell_type": "markdown",
   "id": "1296d0d4",
   "metadata": {},
   "source": [
    "### Implementation of the binomial pricing model\n",
    "- treat binomial tree as a network with nodes (i,j) with i representing the time steps and j representing the number of ordered price outcome, lowest, or bottom of tree, to highest.\n",
    "- use $S_{i,j}$ to represent the position of portfolio value in different conditions\n",
    "- define $S_{i,j}$ as $S_0$(u^j)(d^(i-j))\n",
    "- $C_{i,j}$  represents contract price at each node (i,j). Where $C_{N,j}$ represents final payoff function that we can define.\n",
    "- for a European Call, $C_{N,j}$=max($S_{N,j}$−K,0)\n",
    "\n",
    "\n",
    "- take time at $T_3$ as an example:\n",
    "    - if Time step = N, then we will have N+1 columes of values, the i = j =3, (0,1,2,3), got 4 columns of values\n",
    "    - so if we want to move the pointer on $S_{3,0}$ to $S_{3,1}$, we can time it with $(u/d)$. Same logic, if we want to move the pointer from the latter one to the former one, time the latter one with $(d/u)$. It is a zig-zag move in a binomial tree structure\n",
    "    - $S_{3,0}$ will divide by d first, back to $S_{2,0}$\n",
    "    - then $S_{2,0}$ will time with u to go to $S_{3,1}$\n",
    "\n",
    "\n",
    "- Observed the binomial tree model's structure, we can have two useful findings:\n",
    "    - once we have the values at $T_N$, we can calculate the values at $T_{N-1}$ by applying the pricing formula we derived\n",
    "    - we can use numpy array to store the values at each column to conduct array operation rather than generating single value by for-loop function (it is conducting a single period pricing many times, however we can do it all at once). Array multiplication is much faster when complexity or N is large\n",
    "\n",
    "\n",
    "- then, using a generic timing wrapper function to judge the time performance of using numpy arrays over for loops to iterate over j nodes in each time step i."
   ]
  },
  {
   "cell_type": "code",
   "execution_count": 3,
   "id": "a48c0e07",
   "metadata": {},
   "outputs": [],
   "source": [
    "import numpy as np\n",
    "from functools import wraps\n",
    "from time import time"
   ]
  },
  {
   "cell_type": "code",
   "execution_count": 4,
   "id": "310fd1ec",
   "metadata": {},
   "outputs": [],
   "source": [
    "def timing(f):\n",
    "    @wraps(f)\n",
    "    def wrap(*args, **kw):\n",
    "        ts = time()\n",
    "        result = f(*args, **kw)\n",
    "        te = time()\n",
    "        print('func:%r args:[%r, %r] took: %2.4f sec' % \\\n",
    "          (f.__name__, args, kw, te-ts))\n",
    "        return result\n",
    "    return wrap"
   ]
  },
  {
   "cell_type": "markdown",
   "id": "fb227a43",
   "metadata": {},
   "source": [
    "#### 1.Initialise parameters"
   ]
  },
  {
   "cell_type": "code",
   "execution_count": 10,
   "id": "725565e7",
   "metadata": {},
   "outputs": [],
   "source": [
    "S0 = 100      # initial stock price\n",
    "K = 100       # strike price\n",
    "T = 1         # time to maturity in years\n",
    "r = 0.06      # annual risk-free rate\n",
    "N = 3         # number of time steps\n",
    "u = 1.1       # up-factor in binomial models\n",
    "d = 1/u       # ensure recombining tree\n",
    "opttype = 'C' # Option Type 'C' or 'P'"
   ]
  },
  {
   "cell_type": "markdown",
   "id": "3de49b73",
   "metadata": {},
   "source": [
    "#### 2. Binomial Tree Slow\n",
    "- For the binomial tree slow, use for loops to iterate through nodes j at each time step i."
   ]
  },
  {
   "cell_type": "code",
   "execution_count": 14,
   "id": "48b0ed68",
   "metadata": {},
   "outputs": [
    {
     "name": "stdout",
     "output_type": "stream",
     "text": [
      "func:'binomial_tree_slow' args:[(100, 1, 100, 0.06, 3, 1.1, 0.9090909090909091), {'opttype': 'C'}] took: 0.0001 sec\n"
     ]
    },
    {
     "data": {
      "text/plain": [
       "10.145735799928817"
      ]
     },
     "execution_count": 14,
     "metadata": {},
     "output_type": "execute_result"
    }
   ],
   "source": [
    "@timing\n",
    "def binomial_tree_slow(K,T,S0,r,N,u,d,opttype='C'):\n",
    "    #precompute constants\n",
    "    dt = T/N\n",
    "    q = (np.exp(r*dt) - d) / (u-d)\n",
    "    disc = np.exp(-r*dt)\n",
    "    \n",
    "    # initialise asset prices at maturity - Time step N\n",
    "    S = np.zeros(N+1) # set up an array of 0 first, then update the values\n",
    "    S[0] = S0*d**N\n",
    "    for j in range(1,N+1):\n",
    "        S[j] = S[j-1]*u/d #zig-zag move\n",
    "    \n",
    "    # initialise option values at maturity\n",
    "    C = np.zeros(N+1)\n",
    "    for j in range(0,N+1):\n",
    "        C[j] = max(0, S[j]-K)\n",
    "        \n",
    "    # step backwards through tree\n",
    "    for i in np.arange(N,0,-1):\n",
    "        for j in range(0,i): # why to i? since if we have 3 time steps, we will have 4 cols of values, we will start with finding the value of C along the N-1 cols\n",
    "            C[j] = disc * ( q*C[j+1] + (1-q)*C[j] )\n",
    "    \n",
    "    return C[0]\n",
    "binomial_tree_slow(K,T,S0,r,N,u,d,opttype='C')"
   ]
  },
  {
   "cell_type": "code",
   "execution_count": 20,
   "id": "6664cc16",
   "metadata": {},
   "outputs": [
    {
     "data": {
      "text/plain": [
       "array([0., 0., 0., 0.])"
      ]
     },
     "execution_count": 20,
     "metadata": {},
     "output_type": "execute_result"
    }
   ],
   "source": [
    "S = np.zeros(N+1)\n",
    "S"
   ]
  },
  {
   "cell_type": "code",
   "execution_count": 27,
   "id": "0931208e",
   "metadata": {},
   "outputs": [
    {
     "data": {
      "text/plain": [
       "[3, 2, 1]"
      ]
     },
     "execution_count": 27,
     "metadata": {},
     "output_type": "execute_result"
    }
   ],
   "source": [
    "list(np.arange(N,0,-1))"
   ]
  },
  {
   "cell_type": "code",
   "execution_count": 29,
   "id": "d8daa1c1",
   "metadata": {},
   "outputs": [
    {
     "data": {
      "text/plain": [
       "[0, 1, 2]"
      ]
     },
     "execution_count": 29,
     "metadata": {},
     "output_type": "execute_result"
    }
   ],
   "source": [
    "list(range(0,3))"
   ]
  },
  {
   "cell_type": "markdown",
   "id": "0d4fb7b2",
   "metadata": {},
   "source": [
    "#### 2. Binomial Tree Fast\n",
    "- vectorise out code using numpy arrays instead of for loops through j nodes"
   ]
  },
  {
   "cell_type": "code",
   "execution_count": 40,
   "id": "632668d3",
   "metadata": {},
   "outputs": [
    {
     "name": "stdout",
     "output_type": "stream",
     "text": [
      "func:'binomial_tree_fast' args:[(100, 1, 100, 0.06, 3, 1.1, 0.9090909090909091), {'opttype': 'C'}] took: 0.0001 sec\n"
     ]
    },
    {
     "data": {
      "text/plain": [
       "10.145735799928826"
      ]
     },
     "execution_count": 40,
     "metadata": {},
     "output_type": "execute_result"
    }
   ],
   "source": [
    "@timing\n",
    "def binomial_tree_fast(K,T,S0,r,N,u,d,opttype='C'):\n",
    "    #precompute constants\n",
    "    dt = T/N\n",
    "    q = (np.exp(r*dt) - d) / (u-d)\n",
    "    disc = np.exp(-r*dt)\n",
    "    \n",
    "    # initialise asset prices at maturity - Time step N\n",
    "    C = S0 * d ** (np.arange(N,-1,-1)) * u ** (np.arange(0,N+1,1)) # from bottom to top d^(3,2,1,0),u^(0,1,2,3)\n",
    "    \n",
    "    # initialise option values at maturity\n",
    "    C = np.maximum( C - K , np.zeros(N+1) )\n",
    "        \n",
    "    # step backwards through tree (getting the array of values of the previous T step)\n",
    "    for i in np.arange(N,0,-1):\n",
    "        C = disc * ( q * C[1:i+1] + (1-q) * C[0:i] ) # no j to help us to define the locaiton, use iloc to replace it\n",
    "        # the point is looking at the graph, we can see C[0,1,2] will time with (1-q) once at T3, when we cal the values at T2\n",
    "        # same, we can see C[1,2,3] will time with (q) once at T3\n",
    "        # for np format, right close, so [0:4] is [0,1,2,3]\n",
    "    \n",
    "    return C[0]\n",
    "binomial_tree_fast(K,T,S0,r,N,u,d,opttype='C')"
   ]
  },
  {
   "cell_type": "code",
   "execution_count": 37,
   "id": "767f25de",
   "metadata": {},
   "outputs": [
    {
     "data": {
      "text/plain": [
       "array([ 75.13148009,  90.90909091, 110.        , 133.1       ])"
      ]
     },
     "execution_count": 37,
     "metadata": {},
     "output_type": "execute_result"
    }
   ],
   "source": [
    "dt = T/N\n",
    "q = (np.exp(r*dt) - d) / (u-d)\n",
    "disc = np.exp(-r*dt)\n",
    "C = S0 * d ** (np.arange(N,-1,-1)) * u ** (np.arange(0,N+1,1))\n",
    "C"
   ]
  },
  {
   "cell_type": "code",
   "execution_count": 38,
   "id": "e26b3e84",
   "metadata": {},
   "outputs": [
    {
     "data": {
      "text/plain": [
       "array([ 0. ,  0. , 10. , 33.1])"
      ]
     },
     "execution_count": 38,
     "metadata": {},
     "output_type": "execute_result"
    }
   ],
   "source": [
    "C = np.maximum( C - K , np.zeros(N+1) )\n",
    "C"
   ]
  },
  {
   "cell_type": "markdown",
   "id": "c61a275f",
   "metadata": {},
   "source": [
    "### Binomial Tree Slow vs Fast\n",
    "- compare runtimes for slow vs fast. Ignore option price changes as this is impacted with changing the time steps and keeping the u and d factors the same."
   ]
  },
  {
   "cell_type": "code",
   "execution_count": 41,
   "id": "15d8a97a",
   "metadata": {},
   "outputs": [
    {
     "name": "stdout",
     "output_type": "stream",
     "text": [
      "func:'binomial_tree_slow' args:[(100, 1, 100, 0.06, 3, 1.1, 0.9090909090909091), {'opttype': 'C'}] took: 0.0001 sec\n",
      "func:'binomial_tree_fast' args:[(100, 1, 100, 0.06, 3, 1.1, 0.9090909090909091), {'opttype': 'C'}] took: 0.0001 sec\n",
      "func:'binomial_tree_slow' args:[(100, 1, 100, 0.06, 50, 1.1, 0.9090909090909091), {'opttype': 'C'}] took: 0.0010 sec\n",
      "func:'binomial_tree_fast' args:[(100, 1, 100, 0.06, 50, 1.1, 0.9090909090909091), {'opttype': 'C'}] took: 0.0004 sec\n",
      "func:'binomial_tree_slow' args:[(100, 1, 100, 0.06, 100, 1.1, 0.9090909090909091), {'opttype': 'C'}] took: 0.0038 sec\n",
      "func:'binomial_tree_fast' args:[(100, 1, 100, 0.06, 100, 1.1, 0.9090909090909091), {'opttype': 'C'}] took: 0.0007 sec\n",
      "func:'binomial_tree_slow' args:[(100, 1, 100, 0.06, 1000, 1.1, 0.9090909090909091), {'opttype': 'C'}] took: 0.2864 sec\n",
      "func:'binomial_tree_fast' args:[(100, 1, 100, 0.06, 1000, 1.1, 0.9090909090909091), {'opttype': 'C'}] took: 0.0068 sec\n",
      "func:'binomial_tree_slow' args:[(100, 1, 100, 0.06, 5000, 1.1, 0.9090909090909091), {'opttype': 'C'}] took: 6.7838 sec\n",
      "func:'binomial_tree_fast' args:[(100, 1, 100, 0.06, 5000, 1.1, 0.9090909090909091), {'opttype': 'C'}] took: 0.0451 sec\n"
     ]
    }
   ],
   "source": [
    "for N in [3,50, 100, 1000, 5000]:\n",
    "    binomial_tree_slow(K,T,S0,r,N,u,d,opttype='C')\n",
    "    binomial_tree_fast(K,T,S0,r,N,u,d,opttype='C')"
   ]
  },
  {
   "cell_type": "code",
   "execution_count": null,
   "id": "2dba7a07",
   "metadata": {},
   "outputs": [],
   "source": []
  },
  {
   "cell_type": "code",
   "execution_count": null,
   "id": "fdc097b1",
   "metadata": {},
   "outputs": [],
   "source": []
  },
  {
   "cell_type": "code",
   "execution_count": null,
   "id": "391a15d3",
   "metadata": {},
   "outputs": [],
   "source": []
  },
  {
   "cell_type": "code",
   "execution_count": null,
   "id": "1cb50188",
   "metadata": {},
   "outputs": [],
   "source": []
  }
 ],
 "metadata": {
  "kernelspec": {
   "display_name": "Python 3 (ipykernel)",
   "language": "python",
   "name": "python3"
  },
  "language_info": {
   "codemirror_mode": {
    "name": "ipython",
    "version": 3
   },
   "file_extension": ".py",
   "mimetype": "text/x-python",
   "name": "python",
   "nbconvert_exporter": "python",
   "pygments_lexer": "ipython3",
   "version": "3.9.7"
  }
 },
 "nbformat": 4,
 "nbformat_minor": 5
}
